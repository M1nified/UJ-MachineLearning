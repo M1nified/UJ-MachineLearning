{
 "cells": [
  {
   "cell_type": "markdown",
   "metadata": {},
   "source": [
    "## Dataset info\n",
    "\n",
    "http://help.sentiment140.com/for-students/\n",
    "\n",
    "```\n",
    "The data is a CSV with emoticons removed. Data file format has 6 fields:\n",
    "0 - the polarity of the tweet (0 = negative, 2 = neutral, 4 = positive)\n",
    "1 - the id of the tweet (2087)\n",
    "2 - the date of the tweet (Sat May 16 23:58:44 UTC 2009)\n",
    "3 - the query (lyx). If there is no query, then this value is NO_QUERY.\n",
    "4 - the user that tweeted (robotickilldozr)\n",
    "5 - the text of the tweet (Lyx is cool)\n",
    "```"
   ]
  },
  {
   "cell_type": "code",
   "execution_count": 1,
   "metadata": {},
   "outputs": [],
   "source": [
    "import csv\n",
    "\n",
    "train_data = []\n",
    "# with open('training.1600000.processed.noemoticon.csv') as csvfile:\n",
    "with open('testdata.manual.2009.06.14.csv') as csvfile:\n",
    "    reader = csv.reader(csvfile)\n",
    "    for row in reader:\n",
    "        newrow = [int(row[0]), row[5]]\n",
    "        train_data.append(newrow)\n",
    "        \n",
    "# print(train_data) # won't work in jupyter due to amount of data\n",
    "\n",
    "test_data = []\n",
    "with open('testdata.manual.2009.06.14.csv') as csvfile:\n",
    "    reader = csv.reader(csvfile)\n",
    "    for row in reader:\n",
    "        newrow = [int(row[0]), row[5]]\n",
    "        test_data.append(newrow)\n",
    "        \n",
    "# print(test_data)"
   ]
  },
  {
   "cell_type": "code",
   "execution_count": 28,
   "metadata": {},
   "outputs": [],
   "source": [
    "from nltk.tokenize import word_tokenize\n",
    "import numpy as np\n",
    "import functools\n",
    "import operator\n",
    "\n",
    "class NaiveBayes:\n",
    "    \n",
    "    def __init__(self, training_sets, labels):\n",
    "        self.labels = labels\n",
    "        self.k = len(self.labels)        \n",
    "        self.likelihoods = []\n",
    "        words = [ word_tokenize(training_text) for training_text in training_sets]\n",
    "        word_count = sum(sum(len(word) for word in words) for words in words)\n",
    "        for i in range(self.k):\n",
    "            tmp = { word: (words[i].count(word) + 0.5) / len(words[i]) + 0.5 for word in words[i] }\n",
    "            self.likelihoods.append(tmp)\n",
    "        self.priors = [ len(words[i]) / word_count for i in range(self.k) ]\n",
    "        \n",
    "    def predict(self, input_text):\n",
    "        probabilities = self._probabilities(input_text)\n",
    "        best_index = np.argmax(probabilities)\n",
    "        return self.labels[best_index]\n",
    "        \n",
    "    def _probabilities(self, text):\n",
    "        words = word_tokenize(text)\n",
    "        probabilities = []\n",
    "        for i in range(self.k):\n",
    "            probs_for_words = map(lambda word: self.likelihoods[i][word] if word in self.likelihoods[i] else np.finfo(np.float32).eps, words)\n",
    "            prob_for_text = functools.reduce(operator.mul, probs_for_words, 1)\n",
    "            probabilities.append(prob_for_text)\n",
    "        return probabilities\n",
    "        "
   ]
  },
  {
   "cell_type": "code",
   "execution_count": 29,
   "metadata": {},
   "outputs": [],
   "source": [
    "# print(train_data)\n",
    "    \n",
    "positive = '\\n'.join(list(map(lambda r: r[1], filter(lambda r: r[0] == 4, train_data))))\n",
    "nonpositive = '\\n'.join(list(map(lambda r: r[1], filter(lambda r: not r[0] == 4, train_data))))\n",
    "\n",
    "# print(positive)\n",
    "# print(nonpositive)\n",
    "            \n",
    "\n",
    "nb = NaiveBayes([positive, nonpositive], [1, 0])"
   ]
  },
  {
   "cell_type": "code",
   "execution_count": 49,
   "metadata": {},
   "outputs": [
    {
     "name": "stdout",
     "output_type": "stream",
     "text": [
      "[[315   1]\n",
      " [  1 181]]\n",
      "\n"
     ]
    },
    {
     "data": {
      "image/png": "[encoded data removed]",
      "text/plain": [
       "<Figure size 432x288 with 2 Axes>"
      ]
     },
     "metadata": {
      "needs_background": "light"
     },
     "output_type": "display_data"
    },
    {
     "data": {
      "image/png": "[encoded data removed]",
      "text/plain": [
       "<Figure size 432x288 with 2 Axes>"
      ]
     },
     "metadata": {
      "needs_background": "light"
     },
     "output_type": "display_data"
    }
   ],
   "source": [
    "import seaborn as sns\n",
    "from sklearn.metrics import confusion_matrix\n",
    "import matplotlib.pyplot as plt\n",
    "\n",
    "predictions = [ nb.predict(tweet[1]) for tweet in test_data ]\n",
    "real_values = [ 1 if tweet[0] == 4 else 0 for tweet in test_data]\n",
    "# print(predictions, real_values)\n",
    "\n",
    "conf_mat=confusion_matrix(real_values, predictions)\n",
    "print(conf_mat)\n",
    "\n",
    "plt.figure()\n",
    "sns.heatmap(conf_mat)\n",
    "plt.ylabel('True label')\n",
    "plt.xlabel('Predicted label')\n",
    " \n",
    "plt.figure()\n",
    "conf_mat_normalized = conf_mat.astype('float') / conf_mat.sum(axis=1)[:, np.newaxis]\n",
    "sns.heatmap(conf_mat_normalized)    \n",
    "plt.ylabel('True label')\n",
    "plt.xlabel('Predicted label')\n",
    "\n",
    "print()"
   ]
  },
  {
   "cell_type": "code",
   "execution_count": 50,
   "metadata": {},
   "outputs": [
    {
     "data": {
      "text/plain": [
       "0.9959839357429718"
      ]
     },
     "execution_count": 50,
     "metadata": {},
     "output_type": "execute_result"
    }
   ],
   "source": [
    "from sklearn.metrics import accuracy_score\n",
    "accuracy_score(real_values,predictions)"
   ]
  }
 ],
 "metadata": {
  "kernelspec": {
   "display_name": "Python 3",
   "language": "python",
   "name": "python3"
  },
  "language_info": {
   "codemirror_mode": {
    "name": "ipython",
    "version": 3
   },
   "file_extension": ".py",
   "mimetype": "text/x-python",
   "name": "python",
   "nbconvert_exporter": "python",
   "pygments_lexer": "ipython3",
   "version": "3.7.1"
  }
 },
 "nbformat": 4,
 "nbformat_minor": 2
}
