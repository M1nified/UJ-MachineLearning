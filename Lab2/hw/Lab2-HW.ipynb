{
 "cells": [
  {
   "cell_type": "markdown",
   "metadata": {},
   "source": [
    " ## Dataset info\n",
    "\n",
    " http://help.sentiment140.com/for-students/\n",
    "\n",
    " ```\n",
    " The data is a CSV with emoticons removed. Data file format has 6 fields:\n",
    " 0 - the polarity of the tweet (0 = negative, 2 = neutral, 4 = positive)\n",
    " 1 - the id of the tweet (2087)\n",
    " 2 - the date of the tweet (Sat May 16 23:58:44 UTC 2009)\n",
    " 3 - the query (lyx). If there is no query, then this value is NO_QUERY.\n",
    " 4 - the user that tweeted (robotickilldozr)\n",
    " 5 - the text of the tweet (Lyx is cool)\n",
    " ```"
   ]
  },
  {
   "cell_type": "code",
   "execution_count": 1,
   "metadata": {},
   "outputs": [],
   "source": [
    "from scipy.sparse import csc_matrix\n",
    "from sklearn.metrics import recall_score\n",
    "from sklearn.metrics import precision_score\n",
    "from sklearn.naive_bayes import MultinomialNB\n",
    "from sklearn.feature_extraction.text import CountVectorizer\n",
    "from sklearn.metrics import accuracy_score\n",
    "import matplotlib.pyplot as plt\n",
    "from sklearn.metrics import confusion_matrix\n",
    "import seaborn as sns\n",
    "import operator\n",
    "import functools\n",
    "import numpy as np\n",
    "from nltk.tokenize import word_tokenize\n",
    "import csv\n"
   ]
  },
  {
   "cell_type": "code",
   "execution_count": 2,
   "metadata": {},
   "outputs": [],
   "source": [
    "\n",
    "train_data = []\n",
    "with open('training.1600000.processed.noemoticon.csv') as csvfile:\n",
    "    reader = csv.reader(csvfile)\n",
    "    for row in reader:\n",
    "        newrow = [int(row[0]), row[5]]\n",
    "        train_data.append(newrow)\n",
    "\n",
    "train_positive_list = list(\n",
    "    map(lambda r: r[1], filter(lambda r: r[0] == 4, train_data)))\n",
    "train_positive_list = train_positive_list[:1000]\n",
    "train_positive = '\\n'.join(train_positive_list)\n",
    "train_nonpositive_list = list(\n",
    "    map(lambda r: r[1], filter(lambda r: not r[0] == 4, train_data)))\n",
    "train_nonpositive_list = train_nonpositive_list[:1000]\n",
    "train_nonpositive = '\\n'.join(train_nonpositive_list)\n",
    "\n",
    "# print(train_data) # won't work in jupyter due to amount of data\n",
    "\n",
    "test_data = []\n",
    "with open('testdata.manual.2009.06.14.csv') as csvfile:\n",
    "    reader = csv.reader(csvfile)\n",
    "    for row in reader:\n",
    "        newrow = [int(row[0]), row[5]]\n",
    "        test_data.append(newrow)\n",
    "\n",
    "test_positive_list = list(\n",
    "    map(lambda r: r[1], filter(lambda r: r[0] == 4, test_data)))\n",
    "test_positive = '\\n'.join(test_positive_list)\n",
    "test_nonpositive_list = list(\n",
    "    map(lambda r: r[1], filter(lambda r: not r[0] == 4, test_data)))\n",
    "test_nonpositive = '\\n'.join(test_nonpositive_list)\n",
    "\n",
    "real_values = [1 if tweet[0] == 4 else 0 for tweet in test_data]  # for testing\n"
   ]
  },
  {
   "cell_type": "code",
   "execution_count": 3,
   "metadata": {},
   "outputs": [],
   "source": [
    "features = word_tokenize(test_positive + \" \" + test_nonpositive)\n",
    "features = list(set(features))\n"
   ]
  },
  {
   "cell_type": "code",
   "execution_count": 4,
   "metadata": {},
   "outputs": [],
   "source": [
    "\n",
    "\n",
    "class NaiveBayes:\n",
    "\n",
    "    def __init__(self, training_sets, labels):\n",
    "        self.labels = labels\n",
    "        self.k = len(self.labels)\n",
    "        words = [word_tokenize(text) for text in training_sets]\n",
    "        word_count = sum(len(word) for word in words)\n",
    "        self.likelihoods = [{word: (words[i].count(word) + 0.5) /\n",
    "                             len(words[i]) + 0.5 for word in words[i]} for i in range(self.k)]\n",
    "        self.priors = [len(words[i]) / word_count for i in range(self.k)]\n",
    "\n",
    "    def predict(self, input_text):\n",
    "        probs = self._probabilities(input_text)\n",
    "        best_index = np.argmax(probs)\n",
    "        return self.labels[best_index]\n",
    "\n",
    "    def _probabilities(self, text):\n",
    "        words = word_tokenize(text)\n",
    "        probs = [self._probability_for_class(words, i) for i in range(self.k)]\n",
    "        return probs\n",
    "\n",
    "    def _probability_for_class(self, words, k):\n",
    "        probs_for_words = map(\n",
    "            lambda word: self.likelihoods[k][word] if word in self.likelihoods[k] else np.finfo(np.float32).eps, words)\n",
    "        prob_for_text = functools.reduce(operator.mul, probs_for_words, 1)\n",
    "        return prob_for_text\n",
    "\n"
   ]
  },
  {
   "cell_type": "code",
   "execution_count": 5,
   "metadata": {},
   "outputs": [],
   "source": [
    "nb = NaiveBayes([train_positive, train_nonpositive], [1, 0])"
   ]
  },
  {
   "cell_type": "code",
   "execution_count": 6,
   "metadata": {},
   "outputs": [
    {
     "name": "stdout",
     "output_type": "stream",
     "text": [
      "[[178 138]\n",
      " [ 71 111]]\n"
     ]
    },
    {
     "data": {
      "text/plain": [
       "Text(0.5, 15.0, 'Predicted label')"
      ]
     },
     "execution_count": 6,
     "metadata": {},
     "output_type": "execute_result"
    },
    {
     "data": {
      "image/png": "[encoded data removed]",
      "text/plain": [
       "<Figure size 432x288 with 2 Axes>"
      ]
     },
     "metadata": {
      "needs_background": "light"
     },
     "output_type": "display_data"
    },
    {
     "data": {
      "image/png": "[encoded data removed]",
      "text/plain": [
       "<Figure size 432x288 with 2 Axes>"
      ]
     },
     "metadata": {
      "needs_background": "light"
     },
     "output_type": "display_data"
    }
   ],
   "source": [
    "predictions = [nb.predict(tweet[1]) for tweet in test_data]\n",
    "\n",
    "my_conf_mat = confusion_matrix(real_values, predictions)\n",
    "print(my_conf_mat)\n",
    "\n",
    "plt.figure()\n",
    "sns.heatmap(my_conf_mat)\n",
    "plt.ylabel('True label')\n",
    "plt.xlabel('Predicted label')\n",
    "\n",
    "plt.figure()\n",
    "my_conf_mat_normalized = my_conf_mat.astype(\n",
    "    'float') / my_conf_mat.sum(axis=1)[:, np.newaxis]\n",
    "sns.heatmap(my_conf_mat_normalized)\n",
    "plt.ylabel('True label')\n",
    "plt.xlabel('Predicted label')\n"
   ]
  },
  {
   "cell_type": "code",
   "execution_count": 7,
   "metadata": {},
   "outputs": [
    {
     "data": {
      "text/plain": [
       "0.5803212851405622"
      ]
     },
     "execution_count": 7,
     "metadata": {},
     "output_type": "execute_result"
    }
   ],
   "source": [
    "my_accuracy_score = accuracy_score(real_values, predictions)\n",
    "my_accuracy_score\n"
   ]
  },
  {
   "cell_type": "code",
   "execution_count": 8,
   "metadata": {},
   "outputs": [
    {
     "data": {
      "text/plain": [
       "0.4457831325301205"
      ]
     },
     "execution_count": 8,
     "metadata": {},
     "output_type": "execute_result"
    }
   ],
   "source": [
    "my_precision_score = precision_score(real_values, predictions)\n",
    "my_precision_score\n",
    "\n"
   ]
  },
  {
   "cell_type": "code",
   "execution_count": 9,
   "metadata": {},
   "outputs": [
    {
     "data": {
      "text/plain": [
       "0.6098901098901099"
      ]
     },
     "execution_count": 9,
     "metadata": {},
     "output_type": "execute_result"
    }
   ],
   "source": [
    "my_recall_score = recall_score(real_values, predictions)\n",
    "my_recall_score\n"
   ]
  },
  {
   "cell_type": "markdown",
   "metadata": {},
   "source": [
    " ## Same with sklearn"
   ]
  },
  {
   "cell_type": "code",
   "execution_count": 10,
   "metadata": {},
   "outputs": [],
   "source": [
    "x_train_row_zeros = [0] * len(features)\n",
    "x_train = [x_train_row_zeros[:]\n",
    "           for _ in range(len(train_positive_list) + len(train_nonpositive_list))]\n",
    "\n",
    "train_all_list = train_positive_list[:]\n",
    "train_all_list.extend(train_nonpositive_list[:])\n",
    "\n",
    "for x_i, tweet in enumerate(train_all_list):\n",
    "    twords = word_tokenize(tweet)\n",
    "    utwords = list(set(twords))\n",
    "    for word in utwords:\n",
    "        try:\n",
    "            count = twords.count(word)\n",
    "            idx = features.index(word)\n",
    "            x_train[x_i][idx] = count\n",
    "        except:\n",
    "            pass\n",
    "\n",
    "y_train = [True] * len(train_positive_list)\n",
    "y_train.extend([False] * len(train_nonpositive_list))\n"
   ]
  },
  {
   "cell_type": "code",
   "execution_count": 11,
   "metadata": {},
   "outputs": [],
   "source": [
    "\n",
    "x_test_row_zeros = [0] * len(features)\n",
    "x_test = []\n",
    "x_test = [x_test_row_zeros[:]\n",
    "          for _ in range(len(test_positive_list) + len(test_nonpositive_list))]\n",
    "\n",
    "test_all_list = test_positive_list[:]\n",
    "test_all_list.extend(test_nonpositive_list[:])\n",
    "\n",
    "for x_i, tweet in enumerate(test_all_list):\n",
    "    twords = word_tokenize(tweet)\n",
    "    utwords = list(set(twords))\n",
    "    for word in utwords:\n",
    "        try:\n",
    "            count = twords.count(word)\n",
    "            idx = features.index(word)\n",
    "            x_test[x_i][idx] = count\n",
    "        except:\n",
    "            pass\n",
    "\n",
    "y_test = []\n",
    "y_test = [True] * len(test_positive_list)\n",
    "y_test.extend([False] * len(test_nonpositive_list))\n"
   ]
  },
  {
   "cell_type": "code",
   "execution_count": 12,
   "metadata": {},
   "outputs": [
    {
     "data": {
      "text/plain": [
       "MultinomialNB(alpha=1.0, class_prior=None, fit_prior=True)"
      ]
     },
     "execution_count": 12,
     "metadata": {},
     "output_type": "execute_result"
    }
   ],
   "source": [
    "clf = MultinomialNB()\n",
    "clf.fit(x_train, y_train)\n",
    "\n"
   ]
  },
  {
   "cell_type": "code",
   "execution_count": 13,
   "metadata": {},
   "outputs": [],
   "source": [
    "predictions_from_sklearn = clf.predict(x_test)\n",
    "# predictions_from_sklearn\n",
    "\n"
   ]
  },
  {
   "cell_type": "code",
   "execution_count": 14,
   "metadata": {},
   "outputs": [
    {
     "name": "stdout",
     "output_type": "stream",
     "text": [
      "[[158 158]\n",
      " [ 49 133]]\n"
     ]
    }
   ],
   "source": [
    "sklearn_conf_mat = confusion_matrix(y_test, predictions_from_sklearn)\n",
    "print(sklearn_conf_mat)\n"
   ]
  },
  {
   "cell_type": "code",
   "execution_count": 15,
   "metadata": {},
   "outputs": [
    {
     "data": {
      "text/plain": [
       "0.5843373493975904"
      ]
     },
     "execution_count": 15,
     "metadata": {},
     "output_type": "execute_result"
    }
   ],
   "source": [
    "sklearn_accuracy_score = accuracy_score(y_test, predictions_from_sklearn)\n",
    "sklearn_accuracy_score\n"
   ]
  },
  {
   "cell_type": "code",
   "execution_count": 16,
   "metadata": {},
   "outputs": [
    {
     "data": {
      "text/plain": [
       "0.4570446735395189"
      ]
     },
     "execution_count": 16,
     "metadata": {},
     "output_type": "execute_result"
    }
   ],
   "source": [
    "sklearn_precision_score = precision_score(y_test, predictions_from_sklearn)\n",
    "sklearn_precision_score\n",
    "\n"
   ]
  },
  {
   "cell_type": "code",
   "execution_count": 17,
   "metadata": {},
   "outputs": [
    {
     "data": {
      "text/plain": [
       "0.7307692307692307"
      ]
     },
     "execution_count": 17,
     "metadata": {},
     "output_type": "execute_result"
    }
   ],
   "source": [
    "sklearn_recall_score = recall_score(y_test, predictions_from_sklearn)\n",
    "sklearn_recall_score\n",
    "\n"
   ]
  },
  {
   "cell_type": "markdown",
   "metadata": {},
   "source": [
    " ## Comparison"
   ]
  },
  {
   "cell_type": "code",
   "execution_count": 18,
   "metadata": {},
   "outputs": [
    {
     "name": "stdout",
     "output_type": "stream",
     "text": [
      "[[178 138]\n",
      " [ 71 111]]\n",
      "[[158 158]\n",
      " [ 49 133]]\n"
     ]
    }
   ],
   "source": [
    "print(my_conf_mat)\n",
    "print(sklearn_conf_mat)\n"
   ]
  },
  {
   "cell_type": "code",
   "execution_count": 19,
   "metadata": {},
   "outputs": [
    {
     "name": "stdout",
     "output_type": "stream",
     "text": [
      "0.5803212851405622 0.5843373493975904\n",
      "0.4457831325301205 0.4570446735395189\n",
      "0.6098901098901099 0.7307692307692307\n"
     ]
    }
   ],
   "source": [
    "print(my_accuracy_score, sklearn_accuracy_score)\n",
    "print(my_precision_score, sklearn_precision_score)\n",
    "print(my_recall_score, sklearn_recall_score)\n"
   ]
  },
  {
   "cell_type": "markdown",
   "metadata": {},
   "source": [
    " ## Summary\n",
    " Custom model seems to work only a bit worse than the one from sklearn library. However, it improves as we add more training data (feature coverage) and becomes better than sklearn's one."
   ]
  },
  {
   "cell_type": "code",
   "execution_count": null,
   "metadata": {},
   "outputs": [],
   "source": []
  }
 ],
 "metadata": {
  "file_extension": ".py",
  "kernelspec": {
   "display_name": "Python 3",
   "language": "python",
   "name": "python3"
  },
  "language_info": {
   "codemirror_mode": {
    "name": "ipython",
    "version": 3
   },
   "file_extension": ".py",
   "mimetype": "text/x-python",
   "name": "python",
   "nbconvert_exporter": "python",
   "pygments_lexer": "ipython3",
   "version": "3.7.1"
  },
  "mimetype": "text/x-python",
  "name": "python",
  "npconvert_exporter": "python",
  "pygments_lexer": "ipython3",
  "version": 3
 },
 "nbformat": 4,
 "nbformat_minor": 2
}
