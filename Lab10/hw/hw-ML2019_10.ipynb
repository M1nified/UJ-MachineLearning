{
 "cells": [
  {
   "cell_type": "markdown",
   "metadata": {},
   "source": [
    "  ## Homework 10\n",
    "\n",
    "  ### Your task now is to construct a neural network (in Keras) that learns clasification on this data set. Try to optimize and regularize it with the methods you have learned in class and by going thrugh this notebook. What is the best validation dataset score you can achieve?\n",
    "\n",
    "  Here's what you should take away from this example:\n",
    "\n",
    "  - If you are trying to classify data points between N classes, your network should end with a Dense layer of size N.\n",
    "  - In a single-label, multi-class classification problem, your network should end with a softmax activation, so that it will output a probability distribution over the N output classes.\n",
    "  - Categorical crossentropy is almost always the loss function you should use for such problems. It minimizes the distance between the probability distributions output by the network, and the true distribution of the targets.\n",
    "  - There are two ways to handle labels in multi-class classification: Encoding the labels via \"categorical encoding\" (also known as \"one-hot encoding\") and using categorical_crossentropy as your loss function. Encoding the labels as integers and using the sparse_categorical_crossentropy loss function.\n",
    "  - If you need to classify data into a large number of categories, then you should avoid creating information bottlenecks in your network by having intermediate layers that are too small."
   ]
  },
  {
   "cell_type": "code",
   "execution_count": 1,
   "metadata": {},
   "outputs": [
    {
     "name": "stderr",
     "output_type": "stream",
     "text": [
      "Using TensorFlow backend.\n"
     ]
    }
   ],
   "source": [
    "# Imports\n",
    "\n",
    "import matplotlib.pyplot as plt\n",
    "import numpy as np\n",
    "from keras import layers, models, optimizers, regularizers\n",
    "from keras.datasets import reuters\n",
    "from keras.utils.np_utils import to_categorical\n",
    "\n"
   ]
  },
  {
   "cell_type": "code",
   "execution_count": 2,
   "metadata": {},
   "outputs": [],
   "source": [
    "\n",
    "train, test = reuters.load_data(num_words=10000)\n",
    "train_data, train_labels = train\n",
    "test_data, test_labels = test\n",
    "\n"
   ]
  },
  {
   "cell_type": "code",
   "execution_count": 3,
   "metadata": {},
   "outputs": [
    {
     "name": "stdout",
     "output_type": "stream",
     "text": [
      "8982 8982\n"
     ]
    }
   ],
   "source": [
    "print(len(train_data), len(train_labels))\n",
    "\n"
   ]
  },
  {
   "cell_type": "code",
   "execution_count": 4,
   "metadata": {},
   "outputs": [
    {
     "name": "stdout",
     "output_type": "stream",
     "text": [
      "2246 2246\n"
     ]
    }
   ],
   "source": [
    "print(len(test_data), len(test_labels))\n",
    "\n"
   ]
  },
  {
   "cell_type": "code",
   "execution_count": 5,
   "metadata": {},
   "outputs": [
    {
     "data": {
      "text/plain": [
       "[1,\n",
       " 3267,\n",
       " 699,\n",
       " 3434,\n",
       " 2295,\n",
       " 56,\n",
       " 2,\n",
       " 7511,\n",
       " 9,\n",
       " 56,\n",
       " 3906,\n",
       " 1073,\n",
       " 81,\n",
       " 5,\n",
       " 1198,\n",
       " 57,\n",
       " 366,\n",
       " 737,\n",
       " 132,\n",
       " 20,\n",
       " 4093,\n",
       " 7,\n",
       " 2,\n",
       " 49,\n",
       " 2295,\n",
       " 2,\n",
       " 1037,\n",
       " 3267,\n",
       " 699,\n",
       " 3434,\n",
       " 8,\n",
       " 7,\n",
       " 10,\n",
       " 241,\n",
       " 16,\n",
       " 855,\n",
       " 129,\n",
       " 231,\n",
       " 783,\n",
       " 5,\n",
       " 4,\n",
       " 587,\n",
       " 2295,\n",
       " 2,\n",
       " 2,\n",
       " 775,\n",
       " 7,\n",
       " 48,\n",
       " 34,\n",
       " 191,\n",
       " 44,\n",
       " 35,\n",
       " 1795,\n",
       " 505,\n",
       " 17,\n",
       " 12]"
      ]
     },
     "execution_count": 5,
     "metadata": {},
     "output_type": "execute_result"
    }
   ],
   "source": [
    "train_data[1]\n",
    "\n"
   ]
  },
  {
   "cell_type": "code",
   "execution_count": 6,
   "metadata": {},
   "outputs": [],
   "source": [
    "word_index = reuters.get_word_index()\n",
    "reverse_word_index = dict([(value, key)\n",
    "                           for (key, value) in word_index.items()])\n",
    "# Note that our indices were offset by 3\n",
    "# because 0, 1 and 2 are reserved indices for \"padding\", \"start of sequence\", and \"unknown\".\n",
    "decoded_newswire = ' '.join(\n",
    "    [reverse_word_index.get(i - 3, '?') for i in train_data[0]])\n",
    "\n"
   ]
  },
  {
   "cell_type": "code",
   "execution_count": 7,
   "metadata": {},
   "outputs": [
    {
     "data": {
      "text/plain": [
       "'? ? ? said as a result of its december acquisition of space co it expects earnings per share in 1987 of 1 15 to 1 30 dlrs per share up from 70 cts in 1986 the company said pretax net should rise to nine to 10 mln dlrs from six mln dlrs in 1986 and rental operation revenues to 19 to 22 mln dlrs from 12 5 mln dlrs it said cash flow per share this year should be 2 50 to three dlrs reuter 3'"
      ]
     },
     "execution_count": 7,
     "metadata": {},
     "output_type": "execute_result"
    }
   ],
   "source": [
    "decoded_newswire\n",
    "\n"
   ]
  },
  {
   "cell_type": "code",
   "execution_count": 8,
   "metadata": {},
   "outputs": [
    {
     "data": {
      "text/plain": [
       "array([ 3,  4,  3, ..., 25,  3, 25])"
      ]
     },
     "execution_count": 8,
     "metadata": {},
     "output_type": "execute_result"
    }
   ],
   "source": [
    "train_labels\n",
    "\n"
   ]
  },
  {
   "cell_type": "code",
   "execution_count": 9,
   "metadata": {},
   "outputs": [
    {
     "data": {
      "text/plain": [
       "((8982, 10000), (2246, 10000))"
      ]
     },
     "execution_count": 9,
     "metadata": {},
     "output_type": "execute_result"
    }
   ],
   "source": [
    "def vectorize_sequences(sequences, dimension=10000):\n",
    "    results = np.zeros((len(sequences), dimension))\n",
    "    for i, sequence in enumerate(sequences):\n",
    "        results[i, sequence] = 1.\n",
    "    return results\n",
    "\n",
    "\n",
    "# Our vectorized training data\n",
    "x_train = vectorize_sequences(train_data)\n",
    "# Our vectorized test data\n",
    "x_test = vectorize_sequences(test_data)\n",
    "x_train.shape, x_test.shape\n",
    "\n"
   ]
  },
  {
   "cell_type": "code",
   "execution_count": 10,
   "metadata": {},
   "outputs": [],
   "source": [
    "def to_one_hot(labels, dimension=46):\n",
    "    results = np.zeros((len(labels), dimension))\n",
    "    for i, label in enumerate(labels):\n",
    "        results[i, label] = 1.\n",
    "    return results\n",
    "\n",
    "\n",
    "# Our vectorized training labels\n",
    "one_hot_train_labels = to_one_hot(train_labels)\n",
    "# Our vectorized test labels\n",
    "one_hot_test_labels = to_one_hot(test_labels)\n",
    "\n",
    "\n",
    "one_hot_train_labels = to_categorical(train_labels)\n",
    "one_hot_test_labels = to_categorical(test_labels)\n"
   ]
  },
  {
   "cell_type": "markdown",
   "metadata": {},
   "source": [
    "  ## The homework part"
   ]
  },
  {
   "cell_type": "code",
   "execution_count": 11,
   "metadata": {},
   "outputs": [],
   "source": [
    "# Prep\n",
    "\n",
    "\n",
    "def model_compile(model):\n",
    "    global optimizer\n",
    "    model.compile(\n",
    "        optimizer=optimizer,\n",
    "        loss='categorical_crossentropy',\n",
    "        metrics=['accuracy']\n",
    "    )\n",
    "\n",
    "\n",
    "def model_fit(model):\n",
    "    global x_train, x_test, one_hot_train_labels, num_epochs\n",
    "    model_history = model.fit(\n",
    "        x_train,\n",
    "        one_hot_train_labels,\n",
    "        validation_data=(x_test, one_hot_test_labels),\n",
    "        epochs=num_epochs,\n",
    "        batch_size=512,\n",
    "        verbose=1\n",
    "    )\n",
    "    return model_history\n",
    "\n",
    "\n",
    "def model_evaluate(model):\n",
    "    global x_test, one_hot_test_labels\n",
    "    model_score = model.evaluate(\n",
    "        x_test,\n",
    "        one_hot_test_labels,\n",
    "        verbose=1\n",
    "    )\n",
    "    return model_score\n",
    "\n",
    "\n",
    "def print_score(model_score, idx=None, title=None):\n",
    "    if idx is not None:\n",
    "        print(\"Model\", idx)\n",
    "    if title is not None:\n",
    "        print(title)\n",
    "    print(\"Accuracy: %.2f%%\" % (model_score[1]*100))\n",
    "    print(\"Test loss:\", model_score[0])\n",
    "    print(\"Test accuracy\", model_score[1])\n",
    "\n"
   ]
  },
  {
   "cell_type": "code",
   "execution_count": 12,
   "metadata": {},
   "outputs": [
    {
     "data": {
      "text/plain": [
       "46"
      ]
     },
     "execution_count": 12,
     "metadata": {},
     "output_type": "execute_result"
    }
   ],
   "source": [
    "last_layer_size = len(list(set(train_labels)))\n",
    "last_layer_size\n",
    "\n"
   ]
  },
  {
   "cell_type": "code",
   "execution_count": 13,
   "metadata": {},
   "outputs": [
    {
     "data": {
      "text/plain": [
       "(10000, 500)"
      ]
     },
     "execution_count": 13,
     "metadata": {},
     "output_type": "execute_result"
    }
   ],
   "source": [
    "input_size = len(x_train[0])\n",
    "first_layer_size = 500\n",
    "input_size, first_layer_size\n"
   ]
  },
  {
   "cell_type": "code",
   "execution_count": 17,
   "metadata": {},
   "outputs": [],
   "source": [
    "model_1 = models.Sequential()\n",
    "model_1.add(layers.Dense(\n",
    "    first_layer_size,\n",
    "    activation='relu',\n",
    "    input_shape=(input_size,)\n",
    "))\n",
    "model_1.add(layers.Dense(\n",
    "    last_layer_size,\n",
    "    activation='softmax'\n",
    "))\n",
    "\n",
    "\n",
    "optimizer = optimizers.RMSprop(\n",
    "    lr=0.001,\n",
    "    rho=0.9,\n",
    "    epsilon=None,\n",
    "    decay=0.0\n",
    ")\n",
    "\n"
   ]
  },
  {
   "cell_type": "code",
   "execution_count": 18,
   "metadata": {},
   "outputs": [
    {
     "name": "stdout",
     "output_type": "stream",
     "text": [
      "Train on 8982 samples, validate on 2246 samples\n",
      "Epoch 1/10\n",
      "8982/8982 [==============================] - 5s 561us/step - loss: 1.6655 - acc: 0.6525 - val_loss: 1.1342 - val_acc: 0.7582\n",
      "Epoch 2/10\n",
      "8982/8982 [==============================] - 4s 430us/step - loss: 0.6899 - acc: 0.8591 - val_loss: 0.9087 - val_acc: 0.8010\n",
      "Epoch 3/10\n",
      "8982/8982 [==============================] - 4s 429us/step - loss: 0.4209 - acc: 0.9124 - val_loss: 0.8500 - val_acc: 0.8041\n",
      "Epoch 4/10\n",
      "8982/8982 [==============================] - 4s 478us/step - loss: 0.2930 - acc: 0.9367 - val_loss: 0.8624 - val_acc: 0.8072\n",
      "Epoch 5/10\n",
      "8982/8982 [==============================] - 4s 450us/step - loss: 0.2290 - acc: 0.9482 - val_loss: 0.9063 - val_acc: 0.8001\n",
      "Epoch 6/10\n",
      "8982/8982 [==============================] - 4s 466us/step - loss: 0.1905 - acc: 0.9490 - val_loss: 0.9566 - val_acc: 0.7956\n",
      "Epoch 7/10\n",
      "8982/8982 [==============================] - 4s 475us/step - loss: 0.1739 - acc: 0.9506 - val_loss: 0.9543 - val_acc: 0.8001\n",
      "Epoch 8/10\n",
      "8982/8982 [==============================] - 4s 420us/step - loss: 0.1625 - acc: 0.9499 - val_loss: 0.9934 - val_acc: 0.7974\n",
      "Epoch 9/10\n",
      "8982/8982 [==============================] - 4s 481us/step - loss: 0.1476 - acc: 0.9538 - val_loss: 1.0149 - val_acc: 0.8045\n",
      "Epoch 10/10\n",
      "8982/8982 [==============================] - 4s 487us/step - loss: 0.1424 - acc: 0.9536 - val_loss: 1.0766 - val_acc: 0.7947\n",
      "2246/2246 [==============================] - 1s 326us/step\n"
     ]
    }
   ],
   "source": [
    "model_compile(model_1)\n",
    "num_epochs = 10\n",
    "model_1_history = model_fit(model_1)\n",
    "model_1_score = model_evaluate(model_1)\n",
    "\n"
   ]
  },
  {
   "cell_type": "code",
   "execution_count": 19,
   "metadata": {},
   "outputs": [
    {
     "name": "stdout",
     "output_type": "stream",
     "text": [
      "Model 1\n",
      "Accuracy: 79.47%\n",
      "Test loss: 1.0766477228166371\n",
      "Test accuracy 0.794746215494212\n"
     ]
    }
   ],
   "source": [
    "print_score(model_1_score, idx=1)\n"
   ]
  },
  {
   "cell_type": "code",
   "execution_count": 20,
   "metadata": {},
   "outputs": [
    {
     "data": {
      "image/png": "[encoded data removed]",
      "text/plain": [
       "<Figure size 1152x720 with 1 Axes>"
      ]
     },
     "metadata": {
      "needs_background": "light"
     },
     "output_type": "display_data"
    }
   ],
   "source": [
    "list_epochs = range(1, num_epochs+1)\n",
    "plt.figure(figsize=(16, 10))\n",
    "plt.plot(\n",
    "    list_epochs,\n",
    "    model_1_history.history['loss'],\n",
    "    'b',\n",
    "    label='Training loss'\n",
    ")\n",
    "plt.plot(\n",
    "    list_epochs,\n",
    "    model_1_history.history['val_loss'],\n",
    "    'r',\n",
    "    label='Validation loss'\n",
    ")\n",
    "plt.title('Training and validation loss')\n",
    "plt.xlabel('Epochs')\n",
    "plt.ylabel('Loss')\n",
    "plt.legend()\n",
    "\n",
    "plt.show()\n",
    "\n"
   ]
  },
  {
   "cell_type": "code",
   "execution_count": 21,
   "metadata": {},
   "outputs": [
    {
     "data": {
      "image/png": "[encoded data removed]",
      "text/plain": [
       "<Figure size 1152x720 with 1 Axes>"
      ]
     },
     "metadata": {
      "needs_background": "light"
     },
     "output_type": "display_data"
    }
   ],
   "source": [
    "plt.figure(figsize=(16, 10))\n",
    "plt.plot(\n",
    "    list_epochs,\n",
    "    model_1_history.history['acc'],\n",
    "    'b',\n",
    "    label='Training accuracy'\n",
    ")\n",
    "plt.plot(\n",
    "    list_epochs,\n",
    "    model_1_history.history['val_acc'],\n",
    "    'r',\n",
    "    label='Validation accuracy'\n",
    ")\n",
    "plt.title('Training and validation accuracy')\n",
    "plt.xlabel('Epochs')\n",
    "plt.ylabel('Accuracy')\n",
    "plt.legend()\n",
    "\n",
    "plt.show()\n"
   ]
  },
  {
   "cell_type": "markdown",
   "metadata": {},
   "source": [
    "  ## Model with smaller layers"
   ]
  },
  {
   "cell_type": "code",
   "execution_count": 22,
   "metadata": {},
   "outputs": [],
   "source": [
    "first_layer_size = 100\n",
    "model_2 = models.Sequential()\n",
    "model_2 = models.Sequential()\n",
    "model_2.add(layers.Dense(\n",
    "    first_layer_size,\n",
    "    activation='relu',\n",
    "    input_shape=(input_size,)\n",
    "))\n",
    "model_2.add(layers.Dense(\n",
    "    last_layer_size,\n",
    "    activation='softmax'\n",
    "))\n",
    "\n"
   ]
  },
  {
   "cell_type": "code",
   "execution_count": 23,
   "metadata": {},
   "outputs": [
    {
     "name": "stdout",
     "output_type": "stream",
     "text": [
      "Train on 8982 samples, validate on 2246 samples\n",
      "Epoch 1/10\n",
      "8982/8982 [==============================] - 3s 291us/step - loss: 2.2265 - acc: 0.6031 - val_loss: 1.5423 - val_acc: 0.7039\n",
      "Epoch 2/10\n",
      "8982/8982 [==============================] - 2s 210us/step - loss: 1.1713 - acc: 0.7662 - val_loss: 1.1950 - val_acc: 0.7507\n",
      "Epoch 3/10\n",
      "8982/8982 [==============================] - 2s 183us/step - loss: 0.8317 - acc: 0.8333 - val_loss: 1.0456 - val_acc: 0.7778\n",
      "Epoch 4/10\n",
      "8982/8982 [==============================] - 2s 189us/step - loss: 0.6257 - acc: 0.8779 - val_loss: 0.9581 - val_acc: 0.7867\n",
      "Epoch 5/10\n",
      "8982/8982 [==============================] - 2s 221us/step - loss: 0.4839 - acc: 0.9026 - val_loss: 0.9089 - val_acc: 0.8023\n",
      "Epoch 6/10\n",
      "8982/8982 [==============================] - 2s 216us/step - loss: 0.3838 - acc: 0.9217 - val_loss: 0.8660 - val_acc: 0.8059\n",
      "Epoch 7/10\n",
      "8982/8982 [==============================] - 2s 205us/step - loss: 0.3088 - acc: 0.9360 - val_loss: 0.8616 - val_acc: 0.8068\n",
      "Epoch 8/10\n",
      "8982/8982 [==============================] - 2s 194us/step - loss: 0.2545 - acc: 0.9433 - val_loss: 0.8704 - val_acc: 0.8045\n",
      "Epoch 9/10\n",
      "8982/8982 [==============================] - 2s 181us/step - loss: 0.2184 - acc: 0.9488 - val_loss: 0.8730 - val_acc: 0.8094\n",
      "Epoch 10/10\n",
      "8982/8982 [==============================] - 1s 156us/step - loss: 0.1900 - acc: 0.9510 - val_loss: 0.8890 - val_acc: 0.8068\n",
      "2246/2246 [==============================] - 1s 327us/step\n"
     ]
    }
   ],
   "source": [
    "model_compile(model_2)\n",
    "model_2_history = model_fit(model_2)\n",
    "model_2_score = model_evaluate(model_2)\n",
    "\n"
   ]
  },
  {
   "cell_type": "code",
   "execution_count": 24,
   "metadata": {},
   "outputs": [
    {
     "name": "stdout",
     "output_type": "stream",
     "text": [
      "Model 1\n",
      "Accuracy: 79.47%\n",
      "Test loss: 1.0766477228166371\n",
      "Test accuracy 0.794746215494212\n"
     ]
    }
   ],
   "source": [
    "print_score(model_1_score, idx=1)\n",
    "\n"
   ]
  },
  {
   "cell_type": "code",
   "execution_count": 25,
   "metadata": {},
   "outputs": [
    {
     "name": "stdout",
     "output_type": "stream",
     "text": [
      "Model 2\n",
      "Accuracy: 80.68%\n",
      "Test loss: 0.8890154072989976\n",
      "Test accuracy 0.8067675868210151\n"
     ]
    }
   ],
   "source": [
    "print_score(model_2_score, idx=2)\n"
   ]
  },
  {
   "cell_type": "markdown",
   "metadata": {},
   "source": [
    "  ### Differences\n",
    "  For smaller layers the accuracy rised just a little, but the loss rate got much better.\n",
    "  Model 1 reaches low training loss, but overfits sooner."
   ]
  },
  {
   "cell_type": "code",
   "execution_count": 26,
   "metadata": {},
   "outputs": [
    {
     "data": {
      "image/png": "[encoded data removed]",
      "text/plain": [
       "<Figure size 1152x720 with 1 Axes>"
      ]
     },
     "metadata": {
      "needs_background": "light"
     },
     "output_type": "display_data"
    }
   ],
   "source": [
    "list_epochs = range(1, num_epochs+1)\n",
    "plt.figure(figsize=(16, 10))\n",
    "plt.plot(\n",
    "    list_epochs,\n",
    "    model_1_history.history['loss'],\n",
    "    'b--',\n",
    "    label='Training loss1'\n",
    ")\n",
    "plt.plot(\n",
    "    list_epochs,\n",
    "    model_1_history.history['val_loss'],\n",
    "    'm--',\n",
    "    label='Validation loss1'\n",
    ")\n",
    "plt.plot(\n",
    "    list_epochs,\n",
    "    model_2_history.history['loss'],\n",
    "    'r-',\n",
    "    label='Training loss2'\n",
    ")\n",
    "plt.plot(\n",
    "    list_epochs,\n",
    "    model_2_history.history['val_loss'],\n",
    "    'c-',\n",
    "    label='Validation loss2'\n",
    ")\n",
    "plt.title('Training and validation loss')\n",
    "plt.xlabel('Epochs')\n",
    "plt.ylabel('Loss')\n",
    "plt.legend()\n",
    "plt.show()\n"
   ]
  },
  {
   "cell_type": "markdown",
   "metadata": {},
   "source": [
    "  ## Model with dropout"
   ]
  },
  {
   "cell_type": "code",
   "execution_count": 28,
   "metadata": {},
   "outputs": [],
   "source": [
    "model_3 = models.Sequential()\n",
    "model_3.add(layers.Dense(\n",
    "    first_layer_size,\n",
    "    activation='relu',\n",
    "    input_shape=(input_size,)\n",
    "))\n",
    "model_3.add(layers.Dropout(0.5))\n",
    "model_3.add(layers.Dense(\n",
    "    last_layer_size,\n",
    "    activation='softmax'\n",
    "))\n",
    "\n"
   ]
  },
  {
   "cell_type": "code",
   "execution_count": 29,
   "metadata": {},
   "outputs": [
    {
     "name": "stdout",
     "output_type": "stream",
     "text": [
      "Train on 8982 samples, validate on 2246 samples\n",
      "Epoch 1/10\n",
      "8982/8982 [==============================] - 2s 217us/step - loss: 2.4844 - acc: 0.5595 - val_loss: 1.6637 - val_acc: 0.6803\n",
      "Epoch 2/10\n",
      "8982/8982 [==============================] - 2s 229us/step - loss: 1.4477 - acc: 0.7044 - val_loss: 1.2911 - val_acc: 0.7168\n",
      "Epoch 3/10\n",
      "8982/8982 [==============================] - 2s 235us/step - loss: 1.1138 - acc: 0.7632 - val_loss: 1.1317 - val_acc: 0.7516\n",
      "Epoch 4/10\n",
      "8982/8982 [==============================] - 2s 222us/step - loss: 0.9263 - acc: 0.8003 - val_loss: 1.0388 - val_acc: 0.7711\n",
      "Epoch 5/10\n",
      "8982/8982 [==============================] - 2s 221us/step - loss: 0.7849 - acc: 0.8346 - val_loss: 0.9761 - val_acc: 0.7783\n",
      "Epoch 6/10\n",
      "8982/8982 [==============================] - 2s 196us/step - loss: 0.6852 - acc: 0.8527 - val_loss: 0.9299 - val_acc: 0.7912\n",
      "Epoch 7/10\n",
      "8982/8982 [==============================] - 1s 143us/step - loss: 0.5949 - acc: 0.8761 - val_loss: 0.8916 - val_acc: 0.7983\n",
      "Epoch 8/10\n",
      "8982/8982 [==============================] - 1s 145us/step - loss: 0.5233 - acc: 0.8898 - val_loss: 0.8663 - val_acc: 0.8028\n",
      "Epoch 9/10\n",
      "8982/8982 [==============================] - 1s 144us/step - loss: 0.4636 - acc: 0.9036 - val_loss: 0.8517 - val_acc: 0.8063\n",
      "Epoch 10/10\n",
      "8982/8982 [==============================] - 1s 144us/step - loss: 0.4167 - acc: 0.9139 - val_loss: 0.8553 - val_acc: 0.8041\n",
      "2246/2246 [==============================] - 0s 138us/step\n"
     ]
    }
   ],
   "source": [
    "model_compile(model_3)\n",
    "model_3_history = model_fit(model_3)\n",
    "model_3_score = model_evaluate(model_3)\n"
   ]
  },
  {
   "cell_type": "code",
   "execution_count": 30,
   "metadata": {},
   "outputs": [
    {
     "name": "stdout",
     "output_type": "stream",
     "text": [
      "Model 2\n",
      "Accuracy: 80.68%\n",
      "Test loss: 0.8890154072989976\n",
      "Test accuracy 0.8067675868210151\n"
     ]
    }
   ],
   "source": [
    "print_score(model_2_score, idx=2)\n"
   ]
  },
  {
   "cell_type": "code",
   "execution_count": 31,
   "metadata": {},
   "outputs": [
    {
     "name": "stdout",
     "output_type": "stream",
     "text": [
      "Model 3\n",
      "Accuracy: 80.41%\n",
      "Test loss: 0.8552509988935951\n",
      "Test accuracy 0.8040961710236907\n"
     ]
    }
   ],
   "source": [
    "print_score(model_3_score, idx=3)\n"
   ]
  },
  {
   "cell_type": "markdown",
   "metadata": {},
   "source": [
    "  ### Differences\n",
    "  Model with dropout has:\n",
    "  - better validation loss\n",
    "  - bigger training loss\n"
   ]
  },
  {
   "cell_type": "code",
   "execution_count": 32,
   "metadata": {},
   "outputs": [
    {
     "data": {
      "image/png": "[encoded data removed]",
      "text/plain": [
       "<Figure size 1152x720 with 1 Axes>"
      ]
     },
     "metadata": {
      "needs_background": "light"
     },
     "output_type": "display_data"
    }
   ],
   "source": [
    "list_epochs = range(1, num_epochs+1)\n",
    "plt.figure(figsize=(16, 10))\n",
    "plt.plot(\n",
    "    list_epochs,\n",
    "    model_2_history.history['loss'],\n",
    "    'b--',\n",
    "    label='Training loss no drop'\n",
    ")\n",
    "plt.plot(\n",
    "    list_epochs,\n",
    "    model_2_history.history['val_loss'],\n",
    "    'm--',\n",
    "    label='Validation loss no drop'\n",
    ")\n",
    "plt.plot(\n",
    "    list_epochs,\n",
    "    model_3_history.history['loss'],\n",
    "    'r-',\n",
    "    label='Training loss with drop'\n",
    ")\n",
    "plt.plot(\n",
    "    list_epochs,\n",
    "    model_3_history.history['val_loss'],\n",
    "    'c-',\n",
    "    label='Validation loss with drop'\n",
    ")\n",
    "plt.title('Training and validation loss')\n",
    "plt.xlabel('Epochs')\n",
    "plt.ylabel('Loss')\n",
    "plt.legend()\n",
    "plt.show()\n"
   ]
  },
  {
   "cell_type": "markdown",
   "metadata": {},
   "source": [
    "  ## Model with L2 regularization"
   ]
  },
  {
   "cell_type": "code",
   "execution_count": 33,
   "metadata": {},
   "outputs": [],
   "source": [
    "model_4 = models.Sequential()\n",
    "model_4.add(layers.Dense(\n",
    "    first_layer_size,\n",
    "    kernel_regularizer=regularizers.l2(0.01),\n",
    "    activation='relu',\n",
    "    input_shape=(input_size,)\n",
    "))\n",
    "model_4.add(layers.Dropout(0.5))\n",
    "model_4.add(layers.Dense(\n",
    "    last_layer_size,\n",
    "    activation='softmax'\n",
    "))\n",
    "\n"
   ]
  },
  {
   "cell_type": "code",
   "execution_count": 34,
   "metadata": {},
   "outputs": [
    {
     "name": "stdout",
     "output_type": "stream",
     "text": [
      "Train on 8982 samples, validate on 2246 samples\n",
      "Epoch 1/10\n",
      "8982/8982 [==============================] - 2s 221us/step - loss: 3.1428 - acc: 0.5404 - val_loss: 2.0172 - val_acc: 0.6589\n",
      "Epoch 2/10\n",
      "8982/8982 [==============================] - 1s 153us/step - loss: 1.8455 - acc: 0.6743 - val_loss: 1.6672 - val_acc: 0.6986\n",
      "Epoch 3/10\n",
      "8982/8982 [==============================] - 1s 160us/step - loss: 1.5882 - acc: 0.7150 - val_loss: 1.5449 - val_acc: 0.7142\n",
      "Epoch 4/10\n",
      "8982/8982 [==============================] - 1s 155us/step - loss: 1.4720 - acc: 0.7407 - val_loss: 1.4851 - val_acc: 0.7302\n",
      "Epoch 5/10\n",
      "8982/8982 [==============================] - 2s 197us/step - loss: 1.4137 - acc: 0.7483 - val_loss: 1.4462 - val_acc: 0.7427\n",
      "Epoch 6/10\n",
      "8982/8982 [==============================] - 2s 233us/step - loss: 1.3557 - acc: 0.7611 - val_loss: 1.4237 - val_acc: 0.7435\n",
      "Epoch 7/10\n",
      "8982/8982 [==============================] - 2s 242us/step - loss: 1.3284 - acc: 0.7675 - val_loss: 1.3981 - val_acc: 0.7484\n",
      "Epoch 8/10\n",
      "8982/8982 [==============================] - 2s 240us/step - loss: 1.2875 - acc: 0.7777 - val_loss: 1.3776 - val_acc: 0.7551\n",
      "Epoch 9/10\n",
      "8982/8982 [==============================] - 2s 218us/step - loss: 1.2679 - acc: 0.7825 - val_loss: 1.3538 - val_acc: 0.7556\n",
      "Epoch 10/10\n",
      "8982/8982 [==============================] - 2s 169us/step - loss: 1.2381 - acc: 0.7867 - val_loss: 1.3484 - val_acc: 0.7493\n",
      "2246/2246 [==============================] - 0s 187us/step\n"
     ]
    }
   ],
   "source": [
    "model_compile(model_4)\n",
    "model_4_history = model_fit(model_4)\n",
    "model_4_score = model_evaluate(model_4)\n",
    "\n"
   ]
  },
  {
   "cell_type": "code",
   "execution_count": 35,
   "metadata": {},
   "outputs": [
    {
     "name": "stdout",
     "output_type": "stream",
     "text": [
      "Model 3\n",
      "Accuracy: 80.41%\n",
      "Test loss: 0.8552509988935951\n",
      "Test accuracy 0.8040961710236907\n"
     ]
    }
   ],
   "source": [
    "print_score(model_3_score, idx=3)\n",
    "\n"
   ]
  },
  {
   "cell_type": "code",
   "execution_count": 36,
   "metadata": {},
   "outputs": [
    {
     "name": "stdout",
     "output_type": "stream",
     "text": [
      "Model 5\n",
      "Accuracy: 74.93%\n",
      "Test loss: 1.3483759359069307\n",
      "Test accuracy 0.7493321460639379\n"
     ]
    }
   ],
   "source": [
    "print_score(model_4_score, idx=5)\n"
   ]
  },
  {
   "cell_type": "markdown",
   "metadata": {},
   "source": [
    "  ### Differences\n",
    "  L1 regularization worsened the model.\n"
   ]
  },
  {
   "cell_type": "markdown",
   "metadata": {},
   "source": [
    "  ## Model with L1 regularization"
   ]
  },
  {
   "cell_type": "code",
   "execution_count": 37,
   "metadata": {},
   "outputs": [],
   "source": [
    "model_5 = models.Sequential()\n",
    "model_5.add(layers.Dense(\n",
    "    first_layer_size,\n",
    "    kernel_regularizer=regularizers.l1(0.01),\n",
    "    activation='relu',\n",
    "    input_shape=(input_size,)\n",
    "))\n",
    "model_5.add(layers.Dropout(0.5))\n",
    "model_5.add(layers.Dense(\n",
    "    last_layer_size,\n",
    "    activation='softmax'\n",
    "))\n",
    "\n"
   ]
  },
  {
   "cell_type": "code",
   "execution_count": 38,
   "metadata": {},
   "outputs": [
    {
     "name": "stdout",
     "output_type": "stream",
     "text": [
      "Train on 8982 samples, validate on 2246 samples\n",
      "Epoch 1/10\n",
      "8982/8982 [==============================] - 2s 230us/step - loss: 38.2410 - acc: 0.3960 - val_loss: 8.2322 - val_acc: 0.5000\n",
      "Epoch 2/10\n",
      "8982/8982 [==============================] - 1s 166us/step - loss: 7.9792 - acc: 0.4509 - val_loss: 7.6074 - val_acc: 0.5120\n",
      "Epoch 3/10\n",
      "8982/8982 [==============================] - 1s 153us/step - loss: 7.6181 - acc: 0.4685 - val_loss: 7.4310 - val_acc: 0.5156\n",
      "Epoch 4/10\n",
      "8982/8982 [==============================] - 1s 148us/step - loss: 7.4756 - acc: 0.4719 - val_loss: 7.3307 - val_acc: 0.5071\n",
      "Epoch 5/10\n",
      "8982/8982 [==============================] - 1s 150us/step - loss: 7.3861 - acc: 0.4775 - val_loss: 7.2556 - val_acc: 0.5160\n",
      "Epoch 6/10\n",
      "8982/8982 [==============================] - 1s 150us/step - loss: 7.2700 - acc: 0.4839 - val_loss: 7.0887 - val_acc: 0.5147\n",
      "Epoch 7/10\n",
      "8982/8982 [==============================] - 1s 149us/step - loss: 7.1181 - acc: 0.4886 - val_loss: 7.0159 - val_acc: 0.5156\n",
      "Epoch 8/10\n",
      "8982/8982 [==============================] - 1s 149us/step - loss: 7.0675 - acc: 0.4933 - val_loss: 6.9906 - val_acc: 0.5134\n",
      "Epoch 9/10\n",
      "8982/8982 [==============================] - 1s 164us/step - loss: 7.0361 - acc: 0.4935 - val_loss: 6.9623 - val_acc: 0.5156\n",
      "Epoch 10/10\n",
      "8982/8982 [==============================] - 2s 199us/step - loss: 7.0041 - acc: 0.4992 - val_loss: 6.9497 - val_acc: 0.5138\n",
      "2246/2246 [==============================] - 1s 661us/step\n"
     ]
    }
   ],
   "source": [
    "model_compile(model_5)\n",
    "model_5_history = model_fit(model_5)\n",
    "model_5_score = model_evaluate(model_5)\n",
    "\n"
   ]
  },
  {
   "cell_type": "code",
   "execution_count": 39,
   "metadata": {},
   "outputs": [
    {
     "name": "stdout",
     "output_type": "stream",
     "text": [
      "Model 3\n",
      "Accuracy: 80.41%\n",
      "Test loss: 0.8552509988935951\n",
      "Test accuracy 0.8040961710236907\n"
     ]
    }
   ],
   "source": [
    "print_score(model_3_score, idx=3)\n",
    "\n"
   ]
  },
  {
   "cell_type": "code",
   "execution_count": 40,
   "metadata": {},
   "outputs": [
    {
     "name": "stdout",
     "output_type": "stream",
     "text": [
      "Model 5\n",
      "Accuracy: 51.38%\n",
      "Test loss: 6.949668430793742\n",
      "Test accuracy 0.5138023152536085\n"
     ]
    }
   ],
   "source": [
    "print_score(model_5_score, idx=5)\n"
   ]
  },
  {
   "cell_type": "markdown",
   "metadata": {},
   "source": [
    "  ### Differences\n",
    "  Model with L1 regularization got much more worse than with only L2.\n"
   ]
  },
  {
   "cell_type": "markdown",
   "metadata": {},
   "source": [
    "  ## Model with L1 and L2 regularizations"
   ]
  },
  {
   "cell_type": "code",
   "execution_count": 41,
   "metadata": {},
   "outputs": [],
   "source": [
    "model_6 = models.Sequential()\n",
    "model_6.add(layers.Dense(\n",
    "    first_layer_size,\n",
    "    kernel_regularizer=regularizers.l1(0.01),\n",
    "    activation='relu',\n",
    "    input_shape=(input_size,)\n",
    "))\n",
    "model_6.add(layers.Dropout(0.5))\n",
    "model_6.add(layers.Dense(\n",
    "    first_layer_size,\n",
    "    kernel_regularizer=regularizers.l2(0.01),\n",
    "    activation='relu',\n",
    "    input_shape=(input_size,)\n",
    "))\n",
    "model_6.add(layers.Dropout(0.5))\n",
    "model_6.add(layers.Dense(\n",
    "    last_layer_size,\n",
    "    activation='softmax'\n",
    "))\n",
    "\n"
   ]
  },
  {
   "cell_type": "code",
   "execution_count": 42,
   "metadata": {},
   "outputs": [
    {
     "name": "stdout",
     "output_type": "stream",
     "text": [
      "Train on 8982 samples, validate on 2246 samples\n",
      "Epoch 1/10\n",
      "8982/8982 [==============================] - 2s 253us/step - loss: 39.1727 - acc: 0.3031 - val_loss: 8.7207 - val_acc: 0.4791\n",
      "Epoch 2/10\n",
      "8982/8982 [==============================] - 1s 151us/step - loss: 8.4581 - acc: 0.4247 - val_loss: 7.9041 - val_acc: 0.5085\n",
      "Epoch 3/10\n",
      "8982/8982 [==============================] - 1s 153us/step - loss: 7.9548 - acc: 0.4551 - val_loss: 7.6750 - val_acc: 0.5093\n",
      "Epoch 4/10\n",
      "8982/8982 [==============================] - 1s 164us/step - loss: 7.7160 - acc: 0.4683 - val_loss: 7.4896 - val_acc: 0.5196\n",
      "Epoch 5/10\n",
      "8982/8982 [==============================] - 1s 153us/step - loss: 7.5428 - acc: 0.4836 - val_loss: 7.3750 - val_acc: 0.5174\n",
      "Epoch 6/10\n",
      "8982/8982 [==============================] - 1s 152us/step - loss: 7.3665 - acc: 0.4860 - val_loss: 7.1026 - val_acc: 0.5191\n",
      "Epoch 7/10\n",
      "8982/8982 [==============================] - 1s 142us/step - loss: 7.1671 - acc: 0.4935 - val_loss: 7.0228 - val_acc: 0.5187\n",
      "Epoch 8/10\n",
      "8982/8982 [==============================] - 1s 141us/step - loss: 7.0915 - acc: 0.4916 - val_loss: 6.9668 - val_acc: 0.5196\n",
      "Epoch 9/10\n",
      "8982/8982 [==============================] - 1s 155us/step - loss: 7.0343 - acc: 0.4991 - val_loss: 6.9288 - val_acc: 0.5174\n",
      "Epoch 10/10\n",
      "8982/8982 [==============================] - 1s 142us/step - loss: 7.0065 - acc: 0.5012 - val_loss: 6.9200 - val_acc: 0.5187\n",
      "2246/2246 [==============================] - 0s 202us/step\n"
     ]
    }
   ],
   "source": [
    "model_compile(model_6)\n",
    "model_6_history = model_fit(model_6)\n",
    "model_6_score = model_evaluate(model_6)\n",
    "\n"
   ]
  },
  {
   "cell_type": "code",
   "execution_count": 43,
   "metadata": {},
   "outputs": [
    {
     "name": "stdout",
     "output_type": "stream",
     "text": [
      "Model 3\n",
      "Accuracy: 80.41%\n",
      "Test loss: 0.8552509988935951\n",
      "Test accuracy 0.8040961710236907\n"
     ]
    }
   ],
   "source": [
    "print_score(model_3_score, idx=3)\n",
    "\n"
   ]
  },
  {
   "cell_type": "code",
   "execution_count": 44,
   "metadata": {},
   "outputs": [
    {
     "name": "stdout",
     "output_type": "stream",
     "text": [
      "Model 6\n",
      "Accuracy: 51.87%\n",
      "Test loss: 6.920029696670899\n",
      "Test accuracy 0.5186999109793431\n"
     ]
    }
   ],
   "source": [
    "print_score(model_6_score, idx=6)\n"
   ]
  },
  {
   "cell_type": "markdown",
   "metadata": {},
   "source": [
    " ### Differences\n",
    " Applying both L1 and L2 regularizations also worsened the model results.\n"
   ]
  },
  {
   "cell_type": "markdown",
   "metadata": {},
   "source": [
    " ## Conclusion\n",
    " The best results were achieved with Model 3, which is the one with small layers and dropout applied.\n"
   ]
  },
  {
   "cell_type": "code",
   "execution_count": null,
   "metadata": {},
   "outputs": [],
   "source": []
  }
 ],
 "metadata": {
  "file_extension": ".py",
  "kernelspec": {
   "display_name": "Python 3",
   "language": "python",
   "name": "python3"
  },
  "language_info": {
   "codemirror_mode": {
    "name": "ipython",
    "version": 3
   },
   "file_extension": ".py",
   "mimetype": "text/x-python",
   "name": "python",
   "nbconvert_exporter": "python",
   "pygments_lexer": "ipython3",
   "version": "3.7.3"
  },
  "mimetype": "text/x-python",
  "name": "python",
  "npconvert_exporter": "python",
  "pygments_lexer": "ipython3",
  "version": 3
 },
 "nbformat": 4,
 "nbformat_minor": 2
}
